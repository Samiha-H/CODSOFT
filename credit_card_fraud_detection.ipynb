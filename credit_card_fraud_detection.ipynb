{
  "metadata": {
    "kernelspec": {
      "display_name": "Python 3",
      "language": "python",
      "name": "python3"
    },
    "language_info": {
      "name": "python",
      "version": "3.10.13",
      "mimetype": "text/x-python",
      "codemirror_mode": {
        "name": "ipython",
        "version": 3
      },
      "pygments_lexer": "ipython3",
      "nbconvert_exporter": "python",
      "file_extension": ".py"
    },
    "kaggle": {
      "accelerator": "nvidiaTeslaT4",
      "dataSources": [
        {
          "sourceId": 9120,
          "databundleVersionId": 860599,
          "sourceType": "competition"
        },
        {
          "sourceId": 50160,
          "databundleVersionId": 7921029,
          "sourceType": "competition"
        },
        {
          "sourceId": 23498,
          "sourceType": "datasetVersion",
          "datasetId": 310
        },
        {
          "sourceId": 666,
          "sourceType": "datasetVersion",
          "datasetId": 306
        },
        {
          "sourceId": 1056,
          "sourceType": "datasetVersion",
          "datasetId": 531
        },
        {
          "sourceId": 552038,
          "sourceType": "datasetVersion",
          "datasetId": 263888
        },
        {
          "sourceId": 1399887,
          "sourceType": "datasetVersion",
          "datasetId": 817870
        },
        {
          "sourceId": 1660340,
          "sourceType": "datasetVersion",
          "datasetId": 982921
        },
        {
          "sourceId": 4422779,
          "sourceType": "datasetVersion",
          "datasetId": 2590623
        },
        {
          "sourceId": 8050363,
          "sourceType": "datasetVersion",
          "datasetId": 4541632
        },
        {
          "sourceId": 16695845,
          "sourceType": "kernelVersion"
        }
      ],
      "isInternetEnabled": true,
      "language": "python",
      "sourceType": "notebook",
      "isGpuEnabled": true
    },
    "colab": {
      "name": "credit card fraud detection",
      "provenance": [],
      "include_colab_link": true
    }
  },
  "nbformat_minor": 0,
  "nbformat": 4,
  "cells": [
    {
      "cell_type": "markdown",
      "metadata": {
        "id": "view-in-github",
        "colab_type": "text"
      },
      "source": [
        "<a href=\"https://colab.research.google.com/github/Samiha-H/CODSOFT/blob/main/credit_card_fraud_detection.ipynb\" target=\"_parent\"><img src=\"https://colab.research.google.com/assets/colab-badge.svg\" alt=\"Open In Colab\"/></a>"
      ]
    },
    {
      "source": [
        "\n",
        "# IMPORTANT: RUN THIS CELL IN ORDER TO IMPORT YOUR KAGGLE DATA SOURCES\n",
        "# TO THE CORRECT LOCATION (/kaggle/input) IN YOUR NOTEBOOK,\n",
        "# THEN FEEL FREE TO DELETE THIS CELL.\n",
        "# NOTE: THIS NOTEBOOK ENVIRONMENT DIFFERS FROM KAGGLE'S PYTHON\n",
        "# ENVIRONMENT SO THERE MAY BE MISSING LIBRARIES USED BY YOUR\n",
        "# NOTEBOOK.\n",
        "\n",
        "import os\n",
        "import sys\n",
        "from tempfile import NamedTemporaryFile\n",
        "from urllib.request import urlopen\n",
        "from urllib.parse import unquote, urlparse\n",
        "from urllib.error import HTTPError\n",
        "from zipfile import ZipFile\n",
        "import tarfile\n",
        "import shutil\n",
        "\n",
        "CHUNK_SIZE = 40960\n",
        "DATA_SOURCE_MAPPING = 'default-of-credit-card-clients-dataset:https%3A%2F%2Fstorage.googleapis.com%2Fkaggle-data-sets%2F306%2F666%2Fbundle%2Farchive.zip%3FX-Goog-Algorithm%3DGOOG4-RSA-SHA256%26X-Goog-Credential%3Dgcp-kaggle-com%2540kaggle-161607.iam.gserviceaccount.com%252F20240707%252Fauto%252Fstorage%252Fgoog4_request%26X-Goog-Date%3D20240707T123201Z%26X-Goog-Expires%3D259200%26X-Goog-SignedHeaders%3Dhost%26X-Goog-Signature%3D70e89532148edee0f4faa6ba66dffd9c72542164cc14969830b006f8dd9dc8601c79fa4ffca7795b1d7bb5ca13f2adb80ec8e91076c7cd17aa9135ec2646e538cf14123c7065b157d6b7f326a9f91e6d3064b89a51f1ac66a1ef8112c274697087fe11538528d65934a8a5bbbd0abd6efad9efc1c764b9b06a3c8b16f48f17dc55b5a69afc3127c6607a84605f3f5b84ddfae7f81b867c026db72e2b16a3206dda416452a5e6901a3075bde0cc67a59e2ff9d6699190cea4a60631b44525d3918043764db5be8a59b6ee0e778e57dff396ee6cfaf9b350a9f2dc8ed41d6dac103c8ce38146379928631df7420a8b3285c7a278129ce1e139d121fc5df386f802,german-credit:https%3A%2F%2Fstorage.googleapis.com%2Fkaggle-data-sets%2F531%2F1056%2Fbundle%2Farchive.zip%3FX-Goog-Algorithm%3DGOOG4-RSA-SHA256%26X-Goog-Credential%3Dgcp-kaggle-com%2540kaggle-161607.iam.gserviceaccount.com%252F20240707%252Fauto%252Fstorage%252Fgoog4_request%26X-Goog-Date%3D20240707T123201Z%26X-Goog-Expires%3D259200%26X-Goog-SignedHeaders%3Dhost%26X-Goog-Signature%3D97d6c8d3cb7908e0b5d66a22a8559773ba2ec694c4f4adb67b2563a621a5bd18bb013dd0919309d77d5440414843092bb0a1adb2519d94904dfda35a479f3d79840fab66bea63d18de03096c61ad76f930ea514c7c9cc36a305143daf98a41df6dd1ff5d35e2bcef07afe8c3b4e9c713a5d260a9fbea893113dcbf02f05f433b6813e875b8fa7e804dcf65e41211cba9a8faf20c15fce1497b970bbc24f1592b425c08d5821e920297b4aa8ccffc0af1d81487d05654169ba96f6ec04fd8df336ee18701b43eb22c98a95fdf87393ce5a2c04958ef195411addca9611195d01e85c5643d284eb9cd63e0d171d3d1d43e2e83d1ac144127216b71e286863c733c,creditcardfraud:https%3A%2F%2Fstorage.googleapis.com%2Fkaggle-data-sets%2F310%2F23498%2Fbundle%2Farchive.zip%3FX-Goog-Algorithm%3DGOOG4-RSA-SHA256%26X-Goog-Credential%3Dgcp-kaggle-com%2540kaggle-161607.iam.gserviceaccount.com%252F20240707%252Fauto%252Fstorage%252Fgoog4_request%26X-Goog-Date%3D20240707T123201Z%26X-Goog-Expires%3D259200%26X-Goog-SignedHeaders%3Dhost%26X-Goog-Signature%3D00ee556c5165c747564704690200a8ff81a72cd9bbb815b77059676689f40602896a697dbd870d512a63cd119d5e992a63c569252d0f625e235c1e7232fe5206d23b64e614883ebff67c8a5ef4f7dedc93c2d0c7ba6b5f3569d95f501c0fd96a7d9f0e5ffac5ca746ed9001cd2a57619ab03c871534b70943e202d2379b4d6c746753642e58392545ce7ecc12ff9dbf72fe6d53998c208885f5052c1c81cdf7b0b1187af6b50d942000d4f6e1038333a8d9246d56d825661a73cbe98b9b13a1f229f1cdeb48570d1692a28de044b5e7d13a20393bbf744cfb3dd9297c3307c82f8397068562751b74fc51dbee4be1e5fe3c7f78fba48c569536b9dbb6840f7f6,credit-card:https%3A%2F%2Fstorage.googleapis.com%2Fkaggle-data-sets%2F263888%2F552038%2Fbundle%2Farchive.zip%3FX-Goog-Algorithm%3DGOOG4-RSA-SHA256%26X-Goog-Credential%3Dgcp-kaggle-com%2540kaggle-161607.iam.gserviceaccount.com%252F20240707%252Fauto%252Fstorage%252Fgoog4_request%26X-Goog-Date%3D20240707T123201Z%26X-Goog-Expires%3D259200%26X-Goog-SignedHeaders%3Dhost%26X-Goog-Signature%3D40b8cb2f0867f19daa792189d78117039109a8ec0c1a20eaf512f9829789a7568347528a7b18cc02ee48cd326e7e181dc57b91bc6f452d82ad66cad62b31bbff5617ed977720a9573acda15903f96249ac79afcbbef0444ee25796cb85286d0e02f6c10206bf1a2ae4024bdb50fb57463b734b63439d007f896abddf88783c4c5a93b70a5beda9f2bd804ce208e5c45deb79cada4ee47535bf0d40070624a81730c4a810e60c7e2f3d1414a31e144a7b04b6ab7b342e9f303c7dbe11b7ab25d536ff828986367af586a26d4da2a285fa07135b319e6cbbda26595d4055bac46f256dd20ac5a61fc66e71960765bf613e25433413c22bbf4de38eec582a5f7459,fraud-detection:https%3A%2F%2Fstorage.googleapis.com%2Fkaggle-data-sets%2F817870%2F1399887%2Fbundle%2Farchive.zip%3FX-Goog-Algorithm%3DGOOG4-RSA-SHA256%26X-Goog-Credential%3Dgcp-kaggle-com%2540kaggle-161607.iam.gserviceaccount.com%252F20240707%252Fauto%252Fstorage%252Fgoog4_request%26X-Goog-Date%3D20240707T123201Z%26X-Goog-Expires%3D259200%26X-Goog-SignedHeaders%3Dhost%26X-Goog-Signature%3D8d8417af7d89407df5a451955cb4e86333b70f3a0372604b43a7c67dd83e9ee84ef6d600a5fdd95ad7ab25a6ffad225cb193a09065bb37419b126b83bf7a8032359301e8cef03c6f127b8d9d4328823fa5e00443863c7c536b04eab890b07a7c82cc18910d9cfbf22d1c52302dd4694a49e1f1b2abba61142e2180b13689df771959667af550c04e60989bacca3abd2fc7cf2a455ff45d483a1ea592107af05b6bde2ecc15891504ca0fb4d3e0965b448b8c93cd10cb5f8ca90966c0f71a08e37fbabcc2d71246f2836d0eede0d3a6c59e65fe3f179ce9958c3f56049206152e30ed66650e4560bfde55723a8461f3af60f1b11745c29aeaf0b3be3f5ff0d3c9,credit-card-customers:https%3A%2F%2Fstorage.googleapis.com%2Fkaggle-data-sets%2F982921%2F1660340%2Fbundle%2Farchive.zip%3FX-Goog-Algorithm%3DGOOG4-RSA-SHA256%26X-Goog-Credential%3Dgcp-kaggle-com%2540kaggle-161607.iam.gserviceaccount.com%252F20240707%252Fauto%252Fstorage%252Fgoog4_request%26X-Goog-Date%3D20240707T123201Z%26X-Goog-Expires%3D259200%26X-Goog-SignedHeaders%3Dhost%26X-Goog-Signature%3D7bd5010a0d3d5820e605c6b941a09c63f7fd7c09a53e67674b4197dbe26a3bbc032041cc20c1b884cc2b5bd32963bbc2612005fe49c2c2d943d3778bcd38457d901c9b59ccc86e0d8df946ea6157333bb6a8cbcc3a49c4ceb85933229ea3eb13b9fec08f66aec63a981f3f3cae401309f9d9415c59b080ab80453d929ec4bfdc7e4f29b9a5b840ed0b5ed02b5ae242c8949063c94ca2b7e7f00207960b2d1f400f32c1c22be6ddef650e00cfc9225817b6f09e3581d447c201a852f29e462008d1d5e440e39c13a34dbc9acdf767d9d4058aac05995bc7da77938ba1244fc7bb13a447dc6152dce07b9d8ba69f6ea86b374bee571b2072dba7fbdabeec0e8ac5,credit-card-customers-prediction:https%3A%2F%2Fstorage.googleapis.com%2Fkaggle-data-sets%2F2590623%2F4422779%2Fbundle%2Farchive.zip%3FX-Goog-Algorithm%3DGOOG4-RSA-SHA256%26X-Goog-Credential%3Dgcp-kaggle-com%2540kaggle-161607.iam.gserviceaccount.com%252F20240707%252Fauto%252Fstorage%252Fgoog4_request%26X-Goog-Date%3D20240707T123201Z%26X-Goog-Expires%3D259200%26X-Goog-SignedHeaders%3Dhost%26X-Goog-Signature%3D396a349584da765718d51745c6c2be711f40f6e716a40eec60abcadde18381adb4826d5c53e4cdc2e16e128537e89430ac4aaf9dc4e50fb603684f1bf4e0a857185ef4a9277fe14868151ef3d65f5590e116348cc9f3f24165b29c245d60cd5652d572d11aa937e65a509b078feb70acb95774a79f4d4d21dd699b8a1b5d79a8bdf8c747251995afbf13298d9d0b139fa13d4ed99e0af0ec03d4fe40814bc3850a5915f9a04b4cfa1e982878d974c06d9cf0b9484733d27da7b705ed3550f6e34c4a9f1b78155f2124cca95bedf9c4d6a59a6604ca2539cd9e38ebea517634d20612c972db86da8a9ce71e7f700d3422862195f701420ced2872948ec9a6af54,credit-card-spendings:https%3A%2F%2Fstorage.googleapis.com%2Fkaggle-data-sets%2F4541632%2F8050363%2Fbundle%2Farchive.zip%3FX-Goog-Algorithm%3DGOOG4-RSA-SHA256%26X-Goog-Credential%3Dgcp-kaggle-com%2540kaggle-161607.iam.gserviceaccount.com%252F20240707%252Fauto%252Fstorage%252Fgoog4_request%26X-Goog-Date%3D20240707T123201Z%26X-Goog-Expires%3D259200%26X-Goog-SignedHeaders%3Dhost%26X-Goog-Signature%3D4155112cb4b39b146281a3e8ce080e1039b6c954a1b59d422fca0b87b0c211df546991da049cc00f19af729268df5047acdd6899031698af12df3dd775e1ab3ff9922259c37554c03c44d1098eedb8b66b5332af930b6b984b36938f39726b8257026e2ffa032ea07b4a90ec1bf7456d1bee403985b7c35bfaa111bdb39489287a0398315ee915fbb879653752e16a61d12d93ff0e7f76625b4461d582270d66d9be8291da2771f63cd2206fe723e05a63c97aeb9a8db49905a834de055d2021236f994cfad717d3340dad2b40406835aee0bc8b389ae261add0c2633d3c6ea71dde72ed921eecccf992f0ab184a9589814fd1ce6e864065f846a81407c7cdce'\n",
        "\n",
        "KAGGLE_INPUT_PATH='/kaggle/input'\n",
        "KAGGLE_WORKING_PATH='/kaggle/working'\n",
        "KAGGLE_SYMLINK='kaggle'\n",
        "\n",
        "!umount /kaggle/input/ 2> /dev/null\n",
        "shutil.rmtree('/kaggle/input', ignore_errors=True)\n",
        "os.makedirs(KAGGLE_INPUT_PATH, 0o777, exist_ok=True)\n",
        "os.makedirs(KAGGLE_WORKING_PATH, 0o777, exist_ok=True)\n",
        "\n",
        "try:\n",
        "  os.symlink(KAGGLE_INPUT_PATH, os.path.join(\"..\", 'input'), target_is_directory=True)\n",
        "except FileExistsError:\n",
        "  pass\n",
        "try:\n",
        "  os.symlink(KAGGLE_WORKING_PATH, os.path.join(\"..\", 'working'), target_is_directory=True)\n",
        "except FileExistsError:\n",
        "  pass\n",
        "\n",
        "for data_source_mapping in DATA_SOURCE_MAPPING.split(','):\n",
        "    directory, download_url_encoded = data_source_mapping.split(':')\n",
        "    download_url = unquote(download_url_encoded)\n",
        "    filename = urlparse(download_url).path\n",
        "    destination_path = os.path.join(KAGGLE_INPUT_PATH, directory)\n",
        "    try:\n",
        "        with urlopen(download_url) as fileres, NamedTemporaryFile() as tfile:\n",
        "            total_length = fileres.headers['content-length']\n",
        "            print(f'Downloading {directory}, {total_length} bytes compressed')\n",
        "            dl = 0\n",
        "            data = fileres.read(CHUNK_SIZE)\n",
        "            while len(data) > 0:\n",
        "                dl += len(data)\n",
        "                tfile.write(data)\n",
        "                done = int(50 * dl / int(total_length))\n",
        "                sys.stdout.write(f\"\\r[{'=' * done}{' ' * (50-done)}] {dl} bytes downloaded\")\n",
        "                sys.stdout.flush()\n",
        "                data = fileres.read(CHUNK_SIZE)\n",
        "            if filename.endswith('.zip'):\n",
        "              with ZipFile(tfile) as zfile:\n",
        "                zfile.extractall(destination_path)\n",
        "            else:\n",
        "              with tarfile.open(tfile.name) as tarfile:\n",
        "                tarfile.extractall(destination_path)\n",
        "            print(f'\\nDownloaded and uncompressed: {directory}')\n",
        "    except HTTPError as e:\n",
        "        print(f'Failed to load (likely expired) {download_url} to path {destination_path}')\n",
        "        continue\n",
        "    except OSError as e:\n",
        "        print(f'Failed to load {download_url} to path {destination_path}')\n",
        "        continue\n",
        "\n",
        "print('Data source import complete.')\n"
      ],
      "metadata": {
        "id": "vBgjKAxSLh52"
      },
      "cell_type": "code",
      "outputs": [],
      "execution_count": null
    },
    {
      "cell_type": "code",
      "source": [
        "import pandas as pd"
      ],
      "metadata": {
        "execution": {
          "iopub.status.busy": "2024-04-27T07:52:08.828882Z",
          "iopub.execute_input": "2024-04-27T07:52:08.829172Z",
          "iopub.status.idle": "2024-04-27T07:52:09.919464Z",
          "shell.execute_reply.started": "2024-04-27T07:52:08.829147Z",
          "shell.execute_reply": "2024-04-27T07:52:09.918515Z"
        },
        "trusted": true,
        "id": "ZZv5OAFzLh56"
      },
      "execution_count": null,
      "outputs": []
    },
    {
      "cell_type": "code",
      "source": [
        "data =pd.read_csv('/kaggle/input/creditcardfraud/creditcard.csv')"
      ],
      "metadata": {
        "execution": {
          "iopub.status.busy": "2024-04-27T07:52:18.744971Z",
          "iopub.execute_input": "2024-04-27T07:52:18.745444Z",
          "iopub.status.idle": "2024-04-27T07:52:22.031629Z",
          "shell.execute_reply.started": "2024-04-27T07:52:18.745416Z",
          "shell.execute_reply": "2024-04-27T07:52:22.030732Z"
        },
        "trusted": true,
        "id": "e9VRw3hWLh57"
      },
      "execution_count": null,
      "outputs": []
    },
    {
      "cell_type": "code",
      "source": [
        "data.head()"
      ],
      "metadata": {
        "execution": {
          "iopub.status.busy": "2024-04-27T07:52:23.244954Z",
          "iopub.execute_input": "2024-04-27T07:52:23.24529Z",
          "iopub.status.idle": "2024-04-27T07:52:23.285143Z",
          "shell.execute_reply.started": "2024-04-27T07:52:23.245267Z",
          "shell.execute_reply": "2024-04-27T07:52:23.284287Z"
        },
        "trusted": true,
        "id": "ZJMauEuALh57"
      },
      "execution_count": null,
      "outputs": []
    },
    {
      "cell_type": "code",
      "source": [
        "pd.options.display.max_columns = None"
      ],
      "metadata": {
        "execution": {
          "iopub.status.busy": "2024-04-27T07:52:24.221548Z",
          "iopub.execute_input": "2024-04-27T07:52:24.222111Z",
          "iopub.status.idle": "2024-04-27T07:52:24.226103Z",
          "shell.execute_reply.started": "2024-04-27T07:52:24.22208Z",
          "shell.execute_reply": "2024-04-27T07:52:24.22518Z"
        },
        "trusted": true,
        "id": "mMtdEq86Lh57"
      },
      "execution_count": null,
      "outputs": []
    },
    {
      "cell_type": "code",
      "source": [
        "data.head()"
      ],
      "metadata": {
        "execution": {
          "iopub.status.busy": "2024-04-27T07:52:25.284701Z",
          "iopub.execute_input": "2024-04-27T07:52:25.285048Z",
          "iopub.status.idle": "2024-04-27T07:52:25.313558Z",
          "shell.execute_reply.started": "2024-04-27T07:52:25.285021Z",
          "shell.execute_reply": "2024-04-27T07:52:25.312565Z"
        },
        "trusted": true,
        "id": "IKuOn_EgLh58"
      },
      "execution_count": null,
      "outputs": []
    },
    {
      "cell_type": "code",
      "source": [
        "data.tail()"
      ],
      "metadata": {
        "execution": {
          "iopub.status.busy": "2024-04-27T07:52:26.159074Z",
          "iopub.execute_input": "2024-04-27T07:52:26.159454Z",
          "iopub.status.idle": "2024-04-27T07:52:26.189807Z",
          "shell.execute_reply.started": "2024-04-27T07:52:26.159426Z",
          "shell.execute_reply": "2024-04-27T07:52:26.189071Z"
        },
        "trusted": true,
        "id": "S7MpvddDLh58"
      },
      "execution_count": null,
      "outputs": []
    },
    {
      "cell_type": "code",
      "source": [
        "data.shape"
      ],
      "metadata": {
        "execution": {
          "iopub.status.busy": "2024-04-27T07:52:26.959506Z",
          "iopub.execute_input": "2024-04-27T07:52:26.959826Z",
          "iopub.status.idle": "2024-04-27T07:52:26.966284Z",
          "shell.execute_reply.started": "2024-04-27T07:52:26.959784Z",
          "shell.execute_reply": "2024-04-27T07:52:26.96532Z"
        },
        "trusted": true,
        "id": "5WojL3rYLh58"
      },
      "execution_count": null,
      "outputs": []
    },
    {
      "cell_type": "code",
      "source": [
        "print(\"Number of columns: {}\".format(data.shape[1]))\n",
        "print(\"Number of rows: {}\".format(data.shape[0]))"
      ],
      "metadata": {
        "execution": {
          "iopub.status.busy": "2024-04-27T07:52:27.699935Z",
          "iopub.execute_input": "2024-04-27T07:52:27.700568Z",
          "iopub.status.idle": "2024-04-27T07:52:27.705581Z",
          "shell.execute_reply.started": "2024-04-27T07:52:27.700537Z",
          "shell.execute_reply": "2024-04-27T07:52:27.704642Z"
        },
        "trusted": true,
        "id": "nJv-hCt9Lh59"
      },
      "execution_count": null,
      "outputs": []
    },
    {
      "cell_type": "code",
      "source": [
        "data.info()"
      ],
      "metadata": {
        "execution": {
          "iopub.status.busy": "2024-04-27T07:52:28.44578Z",
          "iopub.execute_input": "2024-04-27T07:52:28.44611Z",
          "iopub.status.idle": "2024-04-27T07:52:28.486601Z",
          "shell.execute_reply.started": "2024-04-27T07:52:28.446084Z",
          "shell.execute_reply": "2024-04-27T07:52:28.485681Z"
        },
        "trusted": true,
        "id": "C2Ukkya0Lh59"
      },
      "execution_count": null,
      "outputs": []
    },
    {
      "cell_type": "code",
      "source": [
        "data.isnull().sum()"
      ],
      "metadata": {
        "execution": {
          "iopub.status.busy": "2024-04-27T07:52:29.144545Z",
          "iopub.execute_input": "2024-04-27T07:52:29.145184Z",
          "iopub.status.idle": "2024-04-27T07:52:29.165666Z",
          "shell.execute_reply.started": "2024-04-27T07:52:29.145154Z",
          "shell.execute_reply": "2024-04-27T07:52:29.164868Z"
        },
        "trusted": true,
        "id": "at_idgwJLh59"
      },
      "execution_count": null,
      "outputs": []
    },
    {
      "cell_type": "code",
      "source": [
        "from sklearn.preprocessing import StandardScaler"
      ],
      "metadata": {
        "execution": {
          "iopub.status.busy": "2024-04-27T07:52:29.844427Z",
          "iopub.execute_input": "2024-04-27T07:52:29.845263Z",
          "iopub.status.idle": "2024-04-27T07:52:30.290722Z",
          "shell.execute_reply.started": "2024-04-27T07:52:29.845233Z",
          "shell.execute_reply": "2024-04-27T07:52:30.289731Z"
        },
        "trusted": true,
        "id": "7DHlUUM0Lh5-"
      },
      "execution_count": null,
      "outputs": []
    },
    {
      "cell_type": "code",
      "source": [
        "sc = StandardScaler()\n",
        "data['Amount'] = sc.fit_transform(pd.DataFrame(data['Amount']))"
      ],
      "metadata": {
        "execution": {
          "iopub.status.busy": "2024-04-27T07:52:31.745909Z",
          "iopub.execute_input": "2024-04-27T07:52:31.746564Z",
          "iopub.status.idle": "2024-04-27T07:52:31.758204Z",
          "shell.execute_reply.started": "2024-04-27T07:52:31.746531Z",
          "shell.execute_reply": "2024-04-27T07:52:31.756991Z"
        },
        "trusted": true,
        "id": "UvqcfmzULh5-"
      },
      "execution_count": null,
      "outputs": []
    },
    {
      "cell_type": "code",
      "source": [
        "data.head()"
      ],
      "metadata": {
        "execution": {
          "iopub.status.busy": "2024-04-27T07:52:32.644964Z",
          "iopub.execute_input": "2024-04-27T07:52:32.645886Z",
          "iopub.status.idle": "2024-04-27T07:52:32.677328Z",
          "shell.execute_reply.started": "2024-04-27T07:52:32.645847Z",
          "shell.execute_reply": "2024-04-27T07:52:32.676399Z"
        },
        "trusted": true,
        "id": "7HsXEEMXLh5-"
      },
      "execution_count": null,
      "outputs": []
    },
    {
      "cell_type": "code",
      "source": [
        "data = data.drop(['Time'], axis =1)"
      ],
      "metadata": {
        "execution": {
          "iopub.status.busy": "2024-04-27T07:52:33.4098Z",
          "iopub.execute_input": "2024-04-27T07:52:33.410132Z",
          "iopub.status.idle": "2024-04-27T07:52:33.439212Z",
          "shell.execute_reply.started": "2024-04-27T07:52:33.410106Z",
          "shell.execute_reply": "2024-04-27T07:52:33.438143Z"
        },
        "trusted": true,
        "id": "VuvIjqZ-Lh5-"
      },
      "execution_count": null,
      "outputs": []
    },
    {
      "cell_type": "code",
      "source": [
        "data.head()"
      ],
      "metadata": {
        "execution": {
          "iopub.status.busy": "2024-04-27T07:52:34.220802Z",
          "iopub.execute_input": "2024-04-27T07:52:34.22171Z",
          "iopub.status.idle": "2024-04-27T07:52:34.254262Z",
          "shell.execute_reply.started": "2024-04-27T07:52:34.221678Z",
          "shell.execute_reply": "2024-04-27T07:52:34.253285Z"
        },
        "trusted": true,
        "id": "_cGCx4fPLh5-"
      },
      "execution_count": null,
      "outputs": []
    },
    {
      "cell_type": "code",
      "source": [
        "data.duplicated().any()"
      ],
      "metadata": {
        "execution": {
          "iopub.status.busy": "2024-04-27T07:52:34.871116Z",
          "iopub.execute_input": "2024-04-27T07:52:34.871458Z",
          "iopub.status.idle": "2024-04-27T07:52:35.457433Z",
          "shell.execute_reply.started": "2024-04-27T07:52:34.871431Z",
          "shell.execute_reply": "2024-04-27T07:52:35.456426Z"
        },
        "trusted": true,
        "id": "B8Sp1VE6Lh5-"
      },
      "execution_count": null,
      "outputs": []
    },
    {
      "cell_type": "code",
      "source": [
        "data = data.drop_duplicates()"
      ],
      "metadata": {
        "execution": {
          "iopub.status.busy": "2024-04-27T07:52:35.574331Z",
          "iopub.execute_input": "2024-04-27T07:52:35.57463Z",
          "iopub.status.idle": "2024-04-27T07:52:36.199875Z",
          "shell.execute_reply.started": "2024-04-27T07:52:35.574605Z",
          "shell.execute_reply": "2024-04-27T07:52:36.199055Z"
        },
        "trusted": true,
        "id": "weUL1PHQLh5-"
      },
      "execution_count": null,
      "outputs": []
    },
    {
      "cell_type": "code",
      "source": [
        "data.shape"
      ],
      "metadata": {
        "execution": {
          "iopub.status.busy": "2024-04-27T07:52:36.306595Z",
          "iopub.execute_input": "2024-04-27T07:52:36.306918Z",
          "iopub.status.idle": "2024-04-27T07:52:36.312918Z",
          "shell.execute_reply.started": "2024-04-27T07:52:36.306886Z",
          "shell.execute_reply": "2024-04-27T07:52:36.312018Z"
        },
        "trusted": true,
        "id": "aDN-TVa4Lh5_"
      },
      "execution_count": null,
      "outputs": []
    },
    {
      "cell_type": "code",
      "source": [
        "data['Class'].value_counts()"
      ],
      "metadata": {
        "execution": {
          "iopub.status.busy": "2024-04-27T07:52:37.318326Z",
          "iopub.execute_input": "2024-04-27T07:52:37.319047Z",
          "iopub.status.idle": "2024-04-27T07:52:37.330456Z",
          "shell.execute_reply.started": "2024-04-27T07:52:37.318996Z",
          "shell.execute_reply": "2024-04-27T07:52:37.329567Z"
        },
        "trusted": true,
        "id": "xq0gpuL4Lh5_"
      },
      "execution_count": null,
      "outputs": []
    },
    {
      "cell_type": "code",
      "source": [
        "import seaborn as sns\n",
        "import matplotlib.pyplot as plt\n",
        "plt.style.use('ggplot')"
      ],
      "metadata": {
        "execution": {
          "iopub.status.busy": "2024-04-27T07:52:38.168667Z",
          "iopub.execute_input": "2024-04-27T07:52:38.168982Z",
          "iopub.status.idle": "2024-04-27T07:52:38.404172Z",
          "shell.execute_reply.started": "2024-04-27T07:52:38.168957Z",
          "shell.execute_reply": "2024-04-27T07:52:38.40339Z"
        },
        "trusted": true,
        "id": "t8rOdWA_Lh5_"
      },
      "execution_count": null,
      "outputs": []
    },
    {
      "cell_type": "code",
      "source": [
        "sns.countplot(data['Class'])\n",
        "plt.show()"
      ],
      "metadata": {
        "execution": {
          "iopub.status.busy": "2024-04-27T07:52:38.95084Z",
          "iopub.execute_input": "2024-04-27T07:52:38.95171Z",
          "iopub.status.idle": "2024-04-27T07:52:39.178977Z",
          "shell.execute_reply.started": "2024-04-27T07:52:38.951676Z",
          "shell.execute_reply": "2024-04-27T07:52:39.177902Z"
        },
        "trusted": true,
        "id": "Y9OLgJxzLh5_"
      },
      "execution_count": null,
      "outputs": []
    },
    {
      "cell_type": "code",
      "source": [
        "X = data.drop('Class', axis = 1)\n",
        "y=data['Class']"
      ],
      "metadata": {
        "execution": {
          "iopub.status.busy": "2024-04-27T07:52:39.611933Z",
          "iopub.execute_input": "2024-04-27T07:52:39.612284Z",
          "iopub.status.idle": "2024-04-27T07:52:39.638501Z",
          "shell.execute_reply.started": "2024-04-27T07:52:39.612258Z",
          "shell.execute_reply": "2024-04-27T07:52:39.637406Z"
        },
        "trusted": true,
        "id": "VHG1Tv3QLh5_"
      },
      "execution_count": null,
      "outputs": []
    },
    {
      "cell_type": "code",
      "source": [
        "from sklearn.model_selection import train_test_split"
      ],
      "metadata": {
        "execution": {
          "iopub.status.busy": "2024-04-27T07:52:40.489125Z",
          "iopub.execute_input": "2024-04-27T07:52:40.489476Z",
          "iopub.status.idle": "2024-04-27T07:52:40.596498Z",
          "shell.execute_reply.started": "2024-04-27T07:52:40.489443Z",
          "shell.execute_reply": "2024-04-27T07:52:40.595575Z"
        },
        "trusted": true,
        "id": "VTgCjLowLh5_"
      },
      "execution_count": null,
      "outputs": []
    },
    {
      "cell_type": "code",
      "source": [
        "X_train, X_test, y_train, y_test = train_test_split(X, y, test_size = 0.2, random_state = 42)"
      ],
      "metadata": {
        "execution": {
          "iopub.status.busy": "2024-04-27T07:52:41.244665Z",
          "iopub.execute_input": "2024-04-27T07:52:41.245329Z",
          "iopub.status.idle": "2024-04-27T07:52:41.329621Z",
          "shell.execute_reply.started": "2024-04-27T07:52:41.245294Z",
          "shell.execute_reply": "2024-04-27T07:52:41.328579Z"
        },
        "trusted": true,
        "id": "ViEBd98GLh5_"
      },
      "execution_count": null,
      "outputs": []
    },
    {
      "cell_type": "code",
      "source": [
        "import numpy as np"
      ],
      "metadata": {
        "execution": {
          "iopub.status.busy": "2024-04-27T07:52:41.977604Z",
          "iopub.execute_input": "2024-04-27T07:52:41.978333Z",
          "iopub.status.idle": "2024-04-27T07:52:41.982446Z",
          "shell.execute_reply.started": "2024-04-27T07:52:41.978299Z",
          "shell.execute_reply": "2024-04-27T07:52:41.981324Z"
        },
        "trusted": true,
        "id": "vxrO4YAlLh5_"
      },
      "execution_count": null,
      "outputs": []
    },
    {
      "cell_type": "code",
      "source": [
        "from sklearn.metrics import accuracy_score, precision_score, recall_score, f1_score, confusion_matrix, classification_report\n",
        "from sklearn.linear_model import LogisticRegression, SGDClassifier\n",
        "from sklearn.tree import DecisionTreeClassifier\n",
        "from sklearn.ensemble import RandomForestClassifier, AdaBoostClassifier, GradientBoostingClassifier, BaggingClassifier, ExtraTreesClassifier, VotingClassifier\n",
        "from sklearn.svm import SVC\n",
        "from sklearn.neighbors import KNeighborsClassifier\n",
        "from sklearn.naive_bayes import GaussianNB\n"
      ],
      "metadata": {
        "execution": {
          "iopub.status.busy": "2024-04-27T07:52:42.730222Z",
          "iopub.execute_input": "2024-04-27T07:52:42.730582Z",
          "iopub.status.idle": "2024-04-27T07:52:42.984139Z",
          "shell.execute_reply.started": "2024-04-27T07:52:42.730556Z",
          "shell.execute_reply": "2024-04-27T07:52:42.983033Z"
        },
        "trusted": true,
        "id": "6VSdZmSULh5_"
      },
      "execution_count": null,
      "outputs": []
    },
    {
      "cell_type": "code",
      "source": [
        "from sklearn.metrics import accuracy_score, precision_score, recall_score, f1_score, confusion_matrix, classification_report\n",
        "from sklearn.naive_bayes import GaussianNB\n",
        "from sklearn.svm import SVC\n",
        "from sklearn.ensemble import AdaBoostClassifier\n",
        "from sklearn.ensemble import GradientBoostingClassifier\n",
        "from sklearn.ensemble import BaggingClassifier\n",
        "from sklearn.ensemble import ExtraTreesClassifier\n",
        "from sklearn.linear_model import SGDClassifier\n",
        "from sklearn.ensemble import VotingClassifier\n",
        "from sklearn.neighbors import KNeighborsClassifier\n",
        "from sklearn.linear_model import LogisticRegression\n",
        "\n",
        "classifier = {\n",
        "    \"Logistic Regression\": LogisticRegression(),\n",
        "    \"Decision Tree Classifier\": DecisionTreeClassifier(),\n",
        "    \"Random Forest Classifier\": RandomForestClassifier(),\n",
        "    \"Support Vector Classifier\": SVC(),\n",
        "    \"K-Nearest Neighbors Classifier\": KNeighborsClassifier(),\n",
        "    \"Gaussian Naive Bayes\": GaussianNB(),\n",
        "    \"AdaBoost Classifier\": AdaBoostClassifier(),\n",
        "    \"Gradient Boosting Classifier\": GradientBoostingClassifier(),\n",
        "    \"Bagging Classifier\": BaggingClassifier(),\n",
        "    \"Extra Trees Classifier\": ExtraTreesClassifier(),\n",
        "    \"Stochastic Gradient Descent Classifier\": SGDClassifier(),\n",
        "    \"Voting Classifier\": VotingClassifier(estimators=[\n",
        "        ('lr', LogisticRegression()),\n",
        "        ('dt', DecisionTreeClassifier()),\n",
        "        ('rf', RandomForestClassifier()),\n",
        "        ('svc', SVC()),\n",
        "        ('knn', KNeighborsClassifier())\n",
        "    ], voting='hard')\n",
        "}\n",
        "\n",
        "for name, clf in classifier.items():\n",
        "    print(f\"\\n=========={name}===========\")\n",
        "    clf.fit(X_train, y_train)\n",
        "    y_pred = clf.predict(X_test)\n",
        "\n",
        "    # Evaluation Metrics\n",
        "    accuracy = accuracy_score(y_test, y_pred)\n",
        "    precision = precision_score(y_test, y_pred)\n",
        "    recall = recall_score(y_test, y_pred)\n",
        "    f1 = f1_score(y_test, y_pred)\n",
        "    print(f\"\\n Accuracy: {accuracy}\")\n",
        "    print(f\" Precision: {precision}\")\n",
        "    print(f\" Recall: {recall}\")\n",
        "    print(f\" F1 Score: {f1}\")\n",
        "\n",
        "    # Confusion Matrix\n",
        "    print(\"\\n Confusion Matrix:\")\n",
        "    print(confusion_matrix(y_test, y_pred))\n",
        "\n",
        "    # Classification Report\n",
        "    print(\"\\n Classification Report:\")\n",
        "    print(classification_report(y_test, y_pred))\n"
      ],
      "metadata": {
        "execution": {
          "iopub.status.busy": "2024-04-27T07:52:43.909147Z",
          "iopub.execute_input": "2024-04-27T07:52:43.909809Z",
          "iopub.status.idle": "2024-04-27T08:14:28.940648Z",
          "shell.execute_reply.started": "2024-04-27T07:52:43.909771Z",
          "shell.execute_reply": "2024-04-27T08:14:28.939647Z"
        },
        "trusted": true,
        "id": "xXV9YP-tLh6A"
      },
      "execution_count": null,
      "outputs": []
    },
    {
      "cell_type": "code",
      "source": [
        "# Undersampling"
      ],
      "metadata": {
        "id": "b3c6SAlDLh6A"
      },
      "execution_count": null,
      "outputs": []
    },
    {
      "cell_type": "code",
      "source": [
        "normal = data[data['Class']==0]\n",
        "fraud = data[data['Class']==1]"
      ],
      "metadata": {
        "id": "5yFtKQVOLh6A"
      },
      "execution_count": null,
      "outputs": []
    },
    {
      "cell_type": "code",
      "source": [
        "normal.shape"
      ],
      "metadata": {
        "id": "VkXGHkE9Lh6A"
      },
      "execution_count": null,
      "outputs": []
    },
    {
      "cell_type": "code",
      "source": [
        "fraud.shape"
      ],
      "metadata": {
        "id": "pKQgqf3ELh6A"
      },
      "execution_count": null,
      "outputs": []
    },
    {
      "cell_type": "code",
      "source": [
        "normal_sample = normal.sample(n=473)"
      ],
      "metadata": {
        "id": "__JuuDQ0Lh6A"
      },
      "execution_count": null,
      "outputs": []
    },
    {
      "cell_type": "code",
      "source": [
        "normal_sample.shape"
      ],
      "metadata": {
        "id": "61_Cfn96Lh6B"
      },
      "execution_count": null,
      "outputs": []
    },
    {
      "cell_type": "code",
      "source": [
        "new_data = pd.concat([normal_sample,fraud], ignore_index=True)"
      ],
      "metadata": {
        "id": "bl1c5sbkLh6B"
      },
      "execution_count": null,
      "outputs": []
    },
    {
      "cell_type": "code",
      "source": [
        "new_data.head()"
      ],
      "metadata": {
        "id": "d8fdCel7Lh6B"
      },
      "execution_count": null,
      "outputs": []
    },
    {
      "cell_type": "code",
      "source": [
        "new_data['Class'].value_counts()"
      ],
      "metadata": {
        "id": "CBjYO4LNLh6B"
      },
      "execution_count": null,
      "outputs": []
    },
    {
      "cell_type": "code",
      "source": [
        "X = new_data.drop('Class', axis = 1)\n",
        "y= new_data['Class']"
      ],
      "metadata": {
        "id": "wIQvuDjmLh6B"
      },
      "execution_count": null,
      "outputs": []
    },
    {
      "cell_type": "code",
      "source": [
        "X_train, X_test, y_train, y_test = train_test_split(X, y, test_size = 0.2, random_state = 42)"
      ],
      "metadata": {
        "id": "_b46TUYvLh6B"
      },
      "execution_count": null,
      "outputs": []
    },
    {
      "cell_type": "code",
      "source": [
        "classifier = {\n",
        "    \"Logistic Regression\": LogisticRegression(),\n",
        "    \"Decision Tree Classifier\": DecisionTreeClassifier()\n",
        "}\n",
        "\n",
        "for name, clf in classifier.items():\n",
        "    print(f\"\\n=========={name}===========\")\n",
        "    clf.fit(X_train, y_train)\n",
        "    y_pred = clf.predict(X_test)\n",
        "    print(f\"\\n Accuaracy: {accuracy_score(y_test, y_pred)}\")\n",
        "    print(f\"\\n Precision: {precision_score(y_test, y_pred)}\")\n",
        "    print(f\"\\n Recall: {recall_score(y_test, y_pred)}\")\n",
        "    print(f\"\\n F1 Score: {f1_score(y_test, y_pred)}\")"
      ],
      "metadata": {
        "id": "KRMDIVwqLh6F"
      },
      "execution_count": null,
      "outputs": []
    },
    {
      "cell_type": "code",
      "source": [
        "# OVERSAMPLING"
      ],
      "metadata": {
        "id": "YbvllRNYLh6G"
      },
      "execution_count": null,
      "outputs": []
    },
    {
      "cell_type": "code",
      "source": [
        "X = data.drop('Class', axis = 1)\n",
        "y= data['Class']"
      ],
      "metadata": {
        "id": "kGPpM_90Lh6G"
      },
      "execution_count": null,
      "outputs": []
    },
    {
      "cell_type": "code",
      "source": [
        "X.shape"
      ],
      "metadata": {
        "id": "FR4wLgrBLh6G"
      },
      "execution_count": null,
      "outputs": []
    },
    {
      "cell_type": "code",
      "source": [
        "y.shape"
      ],
      "metadata": {
        "id": "EEApT4zDLh6G"
      },
      "execution_count": null,
      "outputs": []
    },
    {
      "cell_type": "code",
      "source": [
        "from imblearn.over_sampling import SMOTE"
      ],
      "metadata": {
        "id": "E9K1ca0lLh6G"
      },
      "execution_count": null,
      "outputs": []
    },
    {
      "cell_type": "code",
      "source": [
        "X_res, y_res = SMOTE().fit_resample(X,y)"
      ],
      "metadata": {
        "id": "6GOuUYBzLh6G"
      },
      "execution_count": null,
      "outputs": []
    },
    {
      "cell_type": "code",
      "source": [
        "y_res.value_counts()"
      ],
      "metadata": {
        "id": "hZlgYnaKLh6G"
      },
      "execution_count": null,
      "outputs": []
    },
    {
      "cell_type": "code",
      "source": [
        "X_train, X_test, y_train, y_test = train_test_split(X_res, y_res, test_size = 0.2, random_state = 42)"
      ],
      "metadata": {
        "id": "0yMuwTQyLh6G"
      },
      "execution_count": null,
      "outputs": []
    },
    {
      "cell_type": "code",
      "source": [
        "classifier = {\n",
        "    \"Logistic Regression\": LogisticRegression(),\n",
        "    \"Decision Tree Classifier\": DecisionTreeClassifier()\n",
        "}\n",
        "\n",
        "for name, clf in classifier.items():\n",
        "    print(f\"\\n=========={name}===========\")\n",
        "    clf.fit(X_train, y_train)\n",
        "    y_pred = clf.predict(X_test)\n",
        "    print(f\"\\n Accuaracy: {accuracy_score(y_test, y_pred)}\")\n",
        "    print(f\"\\n Precision: {precision_score(y_test, y_pred)}\")\n",
        "    print(f\"\\n Recall: {recall_score(y_test, y_pred)}\")\n",
        "    print(f\"\\n F1 Score: {f1_score(y_test, y_pred)}\")"
      ],
      "metadata": {
        "id": "9HhgHEs1Lh6H"
      },
      "execution_count": null,
      "outputs": []
    },
    {
      "cell_type": "code",
      "source": [
        "dtc = DecisionTreeClassifier()\n",
        "dtc.fit(X_res, y_res)"
      ],
      "metadata": {
        "id": "yc4Qa19gLh6H"
      },
      "execution_count": null,
      "outputs": []
    },
    {
      "cell_type": "code",
      "source": [
        "import joblib"
      ],
      "metadata": {
        "id": "hWwSupI4Lh6H"
      },
      "execution_count": null,
      "outputs": []
    },
    {
      "cell_type": "code",
      "source": [
        "joblib.dump(dtc, \"credit_card_model.pkl\")"
      ],
      "metadata": {
        "id": "WH1ouy3MLh6H"
      },
      "execution_count": null,
      "outputs": []
    },
    {
      "cell_type": "code",
      "source": [
        "model = joblib.load(\"credit_card_model.pkl\")"
      ],
      "metadata": {
        "id": "Ts3MrsGNLh6H"
      },
      "execution_count": null,
      "outputs": []
    },
    {
      "cell_type": "code",
      "source": [
        "pred = model.predict([[-1.3598071336738,-0.0727811733098497,2.53634673796914,1.37815522427443,-0.338320769942518,0.462387777762292,0.239598554061257,0.0986979012610507,0.363786969611213,0.0907941719789316,-0.551599533260813,-0.617800855762348,-0.991389847235408,-0.311169353699879,1.46817697209427,-0.470400525259478,0.207971241929242,0.0257905801985591,0.403992960255733,0.251412098239705,-0.018306777944153,0.277837575558899,-0.110473910188767,0.0669280749146731,0.128539358273528,-0.189114843888824,0.133558376740387,-0.0210530534538215,149.62]])"
      ],
      "metadata": {
        "id": "pIAFkXTxLh6H"
      },
      "execution_count": null,
      "outputs": []
    },
    {
      "cell_type": "code",
      "source": [
        "pred[0]"
      ],
      "metadata": {
        "id": "snESugm_Lh6H"
      },
      "execution_count": null,
      "outputs": []
    },
    {
      "cell_type": "code",
      "source": [
        "if pred[0] == 0:\n",
        "    print(\"Normal Transcation\")\n",
        "else:\n",
        "    print(\"Fraud Transcation\")"
      ],
      "metadata": {
        "id": "g2UixZgcLh6I"
      },
      "execution_count": null,
      "outputs": []
    }
  ]
}